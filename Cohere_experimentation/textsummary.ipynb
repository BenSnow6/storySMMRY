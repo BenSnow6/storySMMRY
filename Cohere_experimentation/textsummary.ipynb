{
 "cells": [
  {
   "cell_type": "markdown",
   "metadata": {},
   "source": [
    "# Experimenting with the Co:here API"
   ]
  },
  {
   "cell_type": "markdown",
   "metadata": {},
   "source": [
    "## TLDR summarys"
   ]
  },
  {
   "cell_type": "code",
   "execution_count": 4,
   "metadata": {},
   "outputs": [
    {
     "name": "stdout",
     "output_type": "stream",
     "text": [
      "Requirement already satisfied: beautifulsoup4==4.11.1 in c:\\users\\bensn\\anaconda3\\envs\\tf1\\lib\\site-packages (from -r requirements.txt (line 1)) (4.11.1)\n",
      "Requirement already satisfied: pandas==1.3.5 in c:\\users\\bensn\\anaconda3\\envs\\tf1\\lib\\site-packages (from -r requirements.txt (line 2)) (1.3.5)\n",
      "Requirement already satisfied: selenium==4.5.0 in c:\\users\\bensn\\anaconda3\\envs\\tf1\\lib\\site-packages (from -r requirements.txt (line 3)) (4.5.0)\n",
      "Requirement already satisfied: cohere in c:\\users\\bensn\\anaconda3\\envs\\tf1\\lib\\site-packages (from -r requirements.txt (line 4)) (2.5.0)\n",
      "Requirement already satisfied: soupsieve>1.2 in c:\\users\\bensn\\anaconda3\\envs\\tf1\\lib\\site-packages (from beautifulsoup4==4.11.1->-r requirements.txt (line 1)) (2.3.2.post1)\n",
      "Requirement already satisfied: numpy>=1.17.3 in c:\\users\\bensn\\anaconda3\\envs\\tf1\\lib\\site-packages (from pandas==1.3.5->-r requirements.txt (line 2)) (1.21.6)\n",
      "Requirement already satisfied: pytz>=2017.3 in c:\\users\\bensn\\anaconda3\\envs\\tf1\\lib\\site-packages (from pandas==1.3.5->-r requirements.txt (line 2)) (2021.3)\n",
      "Requirement already satisfied: python-dateutil>=2.7.3 in c:\\users\\bensn\\anaconda3\\envs\\tf1\\lib\\site-packages (from pandas==1.3.5->-r requirements.txt (line 2)) (2.8.2)\n",
      "Requirement already satisfied: trio~=0.17 in c:\\users\\bensn\\anaconda3\\envs\\tf1\\lib\\site-packages (from selenium==4.5.0->-r requirements.txt (line 3)) (0.22.0)\n",
      "Requirement already satisfied: urllib3[socks]~=1.26 in c:\\users\\bensn\\anaconda3\\envs\\tf1\\lib\\site-packages (from selenium==4.5.0->-r requirements.txt (line 3)) (1.26.8)\n",
      "Requirement already satisfied: trio-websocket~=0.9 in c:\\users\\bensn\\anaconda3\\envs\\tf1\\lib\\site-packages (from selenium==4.5.0->-r requirements.txt (line 3)) (0.9.2)\n",
      "Requirement already satisfied: certifi>=2021.10.8 in c:\\users\\bensn\\anaconda3\\envs\\tf1\\lib\\site-packages (from selenium==4.5.0->-r requirements.txt (line 3)) (2021.10.8)\n",
      "Requirement already satisfied: requests in c:\\users\\bensn\\anaconda3\\envs\\tf1\\lib\\site-packages (from cohere->-r requirements.txt (line 4)) (2.27.1)\n",
      "Requirement already satisfied: six>=1.5 in c:\\users\\bensn\\anaconda3\\envs\\tf1\\lib\\site-packages (from python-dateutil>=2.7.3->pandas==1.3.5->-r requirements.txt (line 2)) (1.16.0)\n",
      "Requirement already satisfied: async-generator>=1.9 in c:\\users\\bensn\\anaconda3\\envs\\tf1\\lib\\site-packages (from trio~=0.17->selenium==4.5.0->-r requirements.txt (line 3)) (1.10)\n",
      "Requirement already satisfied: idna in c:\\users\\bensn\\anaconda3\\envs\\tf1\\lib\\site-packages (from trio~=0.17->selenium==4.5.0->-r requirements.txt (line 3)) (3.3)\n",
      "Requirement already satisfied: exceptiongroup>=1.0.0rc9 in c:\\users\\bensn\\anaconda3\\envs\\tf1\\lib\\site-packages (from trio~=0.17->selenium==4.5.0->-r requirements.txt (line 3)) (1.0.0rc9)\n",
      "Requirement already satisfied: sniffio in c:\\users\\bensn\\anaconda3\\envs\\tf1\\lib\\site-packages (from trio~=0.17->selenium==4.5.0->-r requirements.txt (line 3)) (1.3.0)\n",
      "Requirement already satisfied: sortedcontainers in c:\\users\\bensn\\anaconda3\\envs\\tf1\\lib\\site-packages (from trio~=0.17->selenium==4.5.0->-r requirements.txt (line 3)) (2.4.0)\n",
      "Requirement already satisfied: attrs>=19.2.0 in c:\\users\\bensn\\anaconda3\\envs\\tf1\\lib\\site-packages (from trio~=0.17->selenium==4.5.0->-r requirements.txt (line 3)) (21.4.0)\n",
      "Requirement already satisfied: cffi>=1.14 in c:\\users\\bensn\\anaconda3\\envs\\tf1\\lib\\site-packages (from trio~=0.17->selenium==4.5.0->-r requirements.txt (line 3)) (1.15.0)\n",
      "Requirement already satisfied: outcome in c:\\users\\bensn\\anaconda3\\envs\\tf1\\lib\\site-packages (from trio~=0.17->selenium==4.5.0->-r requirements.txt (line 3)) (1.2.0)\n",
      "Requirement already satisfied: wsproto>=0.14 in c:\\users\\bensn\\anaconda3\\envs\\tf1\\lib\\site-packages (from trio-websocket~=0.9->selenium==4.5.0->-r requirements.txt (line 3)) (1.2.0)\n",
      "Requirement already satisfied: PySocks!=1.5.7,<2.0,>=1.5.6 in c:\\users\\bensn\\anaconda3\\envs\\tf1\\lib\\site-packages (from urllib3[socks]~=1.26->selenium==4.5.0->-r requirements.txt (line 3)) (1.7.1)\n",
      "Requirement already satisfied: charset-normalizer~=2.0.0 in c:\\users\\bensn\\anaconda3\\envs\\tf1\\lib\\site-packages (from requests->cohere->-r requirements.txt (line 4)) (2.0.12)\n",
      "Requirement already satisfied: pycparser in c:\\users\\bensn\\anaconda3\\envs\\tf1\\lib\\site-packages (from cffi>=1.14->trio~=0.17->selenium==4.5.0->-r requirements.txt (line 3)) (2.21)\n",
      "Requirement already satisfied: h11<1,>=0.9.0 in c:\\users\\bensn\\anaconda3\\envs\\tf1\\lib\\site-packages (from wsproto>=0.14->trio-websocket~=0.9->selenium==4.5.0->-r requirements.txt (line 3)) (0.14.0)\n",
      "Requirement already satisfied: typing-extensions in c:\\users\\bensn\\anaconda3\\envs\\tf1\\lib\\site-packages (from h11<1,>=0.9.0->wsproto>=0.14->trio-websocket~=0.9->selenium==4.5.0->-r requirements.txt (line 3)) (4.1.1)\n",
      "Note: you may need to restart the kernel to use updated packages.\n"
     ]
    },
    {
     "name": "stderr",
     "output_type": "stream",
     "text": [
      "WARNING: There was an error checking the latest version of pip.\n"
     ]
    }
   ],
   "source": [
    "%pip install -r requirements.txt"
   ]
  },
  {
   "cell_type": "code",
   "execution_count": 5,
   "metadata": {},
   "outputs": [],
   "source": [
    "import cohere\n",
    "api_key = ''\n",
    "co = cohere.Client(api_key)"
   ]
  },
  {
   "cell_type": "code",
   "execution_count": 4,
   "metadata": {},
   "outputs": [],
   "source": [
    "prompt = f\"\"\"Passage: Is Wordle getting tougher to solve? Players seem to be convinced that the game has gotten harder in recent weeks ever since The New York Times bought it from developer Josh Wardle in late January. The Times has come forward and shared that this likely isn't the case. That said, the NYT did mess with the back end code a bit, removing some offensive and sexual language, as well as some obscure words There is a viral thread claiming that a confirmation bias was at play. One Twitter user went so far as to claim the game has gone to \"the dusty section of the dictionary\" to find its latest words.\n",
    "\n",
    "TLDR: Wordle has not gotten more difficult to solve.\n",
    "--\n",
    "Passage: ArtificialIvan, a seven-year-old, London-based payment and expense management software company, has raised $190 million in Series C funding led by ARG Global, with participation from D9 Capital Group and Boulder Capital. Earlier backers also joined the round, including Hilton Group, Roxanne Capital, Paved Roads Ventures, Brook Partners, and Plato Capital.\n",
    "\n",
    "TLDR: ArtificialIvan has raised $190 million in Series C funding.\n",
    "--\n",
    "Passage: The National Weather Service announced Tuesday that a freeze warning is in effect for the Bay Area, with freezing temperatures expected in these areas overnight. Temperatures could fall into the mid-20s to low 30s in some areas. In anticipation of the hard freeze, the weather service warns people to take action now.\n",
    "\n",
    "TLDR:\"\"\""
   ]
  },
  {
   "cell_type": "code",
   "execution_count": 5,
   "metadata": {},
   "outputs": [],
   "source": [
    "response = co.generate( \n",
    "    model='xlarge', \n",
    "    prompt = prompt,\n",
    "    max_tokens=40, \n",
    "    temperature=0.8,\n",
    "    stop_sequences=[\"--\"])\n",
    "\n",
    "summary = response.generations[0].text"
   ]
  },
  {
   "cell_type": "code",
   "execution_count": 6,
   "metadata": {},
   "outputs": [
    {
     "data": {
      "text/plain": [
       "' A freeze warning is in effect for the Bay Area.\\n--'"
      ]
     },
     "execution_count": 6,
     "metadata": {},
     "output_type": "execute_result"
    }
   ],
   "source": [
    "summary"
   ]
  },
  {
   "cell_type": "markdown",
   "metadata": {},
   "source": [
    "## Creating tags from a large text"
   ]
  },
  {
   "cell_type": "markdown",
   "metadata": {},
   "source": [
    "Donwloading short story examples from [reedsy](https://blog.reedsy.com/short-stories/)"
   ]
  },
  {
   "cell_type": "code",
   "execution_count": 2,
   "metadata": {},
   "outputs": [
    {
     "name": "stdout",
     "output_type": "stream",
     "text": [
      "Requirement already satisfied: webdriver-manager in c:\\users\\bensn\\anaconda3\\envs\\tf1\\lib\\site-packages (3.8.3)\n",
      "Requirement already satisfied: python-dotenv in c:\\users\\bensn\\anaconda3\\envs\\tf1\\lib\\site-packages (from webdriver-manager) (0.20.0)\n",
      "Requirement already satisfied: requests in c:\\users\\bensn\\anaconda3\\envs\\tf1\\lib\\site-packages (from webdriver-manager) (2.27.1)\n",
      "Requirement already satisfied: tqdm in c:\\users\\bensn\\anaconda3\\envs\\tf1\\lib\\site-packages (from webdriver-manager) (4.63.0)\n",
      "Requirement already satisfied: urllib3<1.27,>=1.21.1 in c:\\users\\bensn\\anaconda3\\envs\\tf1\\lib\\site-packages (from requests->webdriver-manager) (1.26.8)\n",
      "Requirement already satisfied: certifi>=2017.4.17 in c:\\users\\bensn\\anaconda3\\envs\\tf1\\lib\\site-packages (from requests->webdriver-manager) (2021.10.8)\n",
      "Requirement already satisfied: idna<4,>=2.5 in c:\\users\\bensn\\anaconda3\\envs\\tf1\\lib\\site-packages (from requests->webdriver-manager) (3.3)\n",
      "Requirement already satisfied: charset-normalizer~=2.0.0 in c:\\users\\bensn\\anaconda3\\envs\\tf1\\lib\\site-packages (from requests->webdriver-manager) (2.0.12)\n",
      "Requirement already satisfied: colorama in c:\\users\\bensn\\anaconda3\\envs\\tf1\\lib\\site-packages (from tqdm->webdriver-manager) (0.4.4)\n",
      "Note: you may need to restart the kernel to use updated packages.\n"
     ]
    },
    {
     "name": "stderr",
     "output_type": "stream",
     "text": [
      "WARNING: There was an error checking the latest version of pip.\n"
     ]
    }
   ],
   "source": [
    "%pip install webdriver-manager"
   ]
  },
  {
   "cell_type": "code",
   "execution_count": 4,
   "metadata": {},
   "outputs": [
    {
     "name": "stderr",
     "output_type": "stream",
     "text": [
      "c:\\Users\\bensn\\anaconda3\\envs\\tf1\\lib\\site-packages\\ipykernel_launcher.py:3: DeprecationWarning: executable_path has been deprecated, please pass in a Service object\n",
      "  This is separate from the ipykernel package so we can avoid doing imports until\n"
     ]
    }
   ],
   "source": [
    "from selenium import webdriver\n",
    "from webdriver_manager.chrome import ChromeDriverManager\n",
    "driver = webdriver.Chrome(ChromeDriverManager().install())"
   ]
  },
  {
   "cell_type": "code",
   "execution_count": 5,
   "metadata": {},
   "outputs": [],
   "source": [
    "from scrape_functions import *"
   ]
  },
  {
   "cell_type": "code",
   "execution_count": 42,
   "metadata": {},
   "outputs": [],
   "source": [
    "url_list = ['https://blog.reedsy.com/short-story/ndit0a/', \n",
    "            'https://blog.reedsy.com/short-story/n5toc8/', \n",
    "            'https://blog.reedsy.com/short-story/eoex6z/', \n",
    "            'https://blog.reedsy.com/short-story/vi8uge/', \n",
    "            'https://blog.reedsy.com/short-story/7yrery/',\n",
    "            'https://blog.reedsy.com/short-story/j48lmh/',\n",
    "            'https://blog.reedsy.com/short-story/1toaoe/',\n",
    "            'https://blog.reedsy.com/short-story/7yrery/',\n",
    "            'https://blog.reedsy.com/short-story/c2ar53/',\n",
    "            'https://blog.reedsy.com/short-story/iur9u1/',\n",
    "            'https://blog.reedsy.com/short-story/0wjsaw/',\n",
    "            'https://blog.reedsy.com/short-story/rcuiva/',\n",
    "            'https://blog.reedsy.com/short-story/zf6eb9/',\n",
    "            'https://blog.reedsy.com/short-story/evwarr/',\n",
    "            'https://blog.reedsy.com/short-story/omxn2o/',\n",
    "            'https://blog.reedsy.com/short-story/gm80ij/',\n",
    "            'https://blog.reedsy.com/short-story/dkhusv/',\n",
    "            'https://blog.reedsy.com/short-story/idca55/',\n",
    "            'https://blog.reedsy.com/short-story/ua19kk/',\n",
    "            'https://blog.reedsy.com/short-story/vdgjfo/',\n",
    "            'https://blog.reedsy.com/short-story/5antpt/',\n",
    "            'https://blog.reedsy.com/short-story/4gdaax/',\n",
    "            'https://blog.reedsy.com/short-story/nkkeif/',\n",
    "            'https://blog.reedsy.com/short-story/nc54kv/']"
   ]
  },
  {
   "cell_type": "code",
   "execution_count": 43,
   "metadata": {},
   "outputs": [
    {
     "data": {
      "text/html": [
       "<div>\n",
       "<style scoped>\n",
       "    .dataframe tbody tr th:only-of-type {\n",
       "        vertical-align: middle;\n",
       "    }\n",
       "\n",
       "    .dataframe tbody tr th {\n",
       "        vertical-align: top;\n",
       "    }\n",
       "\n",
       "    .dataframe thead th {\n",
       "        text-align: right;\n",
       "    }\n",
       "</style>\n",
       "<table border=\"1\" class=\"dataframe\">\n",
       "  <thead>\n",
       "    <tr style=\"text-align: right;\">\n",
       "      <th></th>\n",
       "      <th>Article title</th>\n",
       "      <th>Body</th>\n",
       "      <th>Tags</th>\n",
       "    </tr>\n",
       "  </thead>\n",
       "  <tbody>\n",
       "    <tr>\n",
       "      <th>0</th>\n",
       "      <td>Mothering</td>\n",
       "      <td>Carmen invades my mind a lot, even years after...</td>\n",
       "      <td>Fiction,Teens &amp; Young Adult,Drama</td>\n",
       "    </tr>\n",
       "  </tbody>\n",
       "</table>\n",
       "</div>"
      ],
      "text/plain": [
       "             Article title                                               Body  \\\n",
       "0          Mothering        Carmen invades my mind a lot, even years after...   \n",
       "\n",
       "                                Tags  \n",
       "0  Fiction,Teens & Young Adult,Drama  "
      ]
     },
     "execution_count": 43,
     "metadata": {},
     "output_type": "execute_result"
    }
   ],
   "source": [
    "scrape_URL('https://blog.reedsy.com/short-story/ndit0a/', driver)"
   ]
  },
  {
   "cell_type": "code",
   "execution_count": 44,
   "metadata": {},
   "outputs": [],
   "source": [
    "df = pd.DataFrame()\n",
    "for url in url_list:\n",
    "    df = df.append(scrape_URL(url, driver))"
   ]
  },
  {
   "cell_type": "code",
   "execution_count": 46,
   "metadata": {},
   "outputs": [
    {
     "data": {
      "text/html": [
       "<div>\n",
       "<style scoped>\n",
       "    .dataframe tbody tr th:only-of-type {\n",
       "        vertical-align: middle;\n",
       "    }\n",
       "\n",
       "    .dataframe tbody tr th {\n",
       "        vertical-align: top;\n",
       "    }\n",
       "\n",
       "    .dataframe thead th {\n",
       "        text-align: right;\n",
       "    }\n",
       "</style>\n",
       "<table border=\"1\" class=\"dataframe\">\n",
       "  <thead>\n",
       "    <tr style=\"text-align: right;\">\n",
       "      <th></th>\n",
       "      <th>Article title</th>\n",
       "      <th>Body</th>\n",
       "      <th>Tags</th>\n",
       "    </tr>\n",
       "  </thead>\n",
       "  <tbody>\n",
       "    <tr>\n",
       "      <th>0</th>\n",
       "      <td>Mothering</td>\n",
       "      <td>Carmen invades my mind a lot, even years after...</td>\n",
       "      <td>Fiction,Teens &amp; Young Adult,Drama</td>\n",
       "    </tr>\n",
       "    <tr>\n",
       "      <th>0</th>\n",
       "      <td>10 Ways to Explain Your Husband's Deat...</td>\n",
       "      <td>Content warning: Themes of death***1. Tell the...</td>\n",
       "      <td>Christian,Drama,Sad</td>\n",
       "    </tr>\n",
       "    <tr>\n",
       "      <th>0</th>\n",
       "      <td>And the Radio Said, “There’s Another S...</td>\n",
       "      <td>CW: Gun violence, deathThe air hung heavy with...</td>\n",
       "      <td>Drama,Crime,Historical Fiction</td>\n",
       "    </tr>\n",
       "    <tr>\n",
       "      <th>0</th>\n",
       "      <td>Long Distance Phone Call</td>\n",
       "      <td>You can talk to the dead on the pay phone in f...</td>\n",
       "      <td>Fiction,Lesbian</td>\n",
       "    </tr>\n",
       "    <tr>\n",
       "      <th>0</th>\n",
       "      <td>Wish You Were Here</td>\n",
       "      <td>Bonjour from the city of love! I don't have mu...</td>\n",
       "      <td>Contemporary,Funny,Sad</td>\n",
       "    </tr>\n",
       "    <tr>\n",
       "      <th>0</th>\n",
       "      <td>Old Soul</td>\n",
       "      <td>Can you hear me?I remember being reborn a thou...</td>\n",
       "      <td>Fiction</td>\n",
       "    </tr>\n",
       "    <tr>\n",
       "      <th>0</th>\n",
       "      <td>Your Cat™️ Customer Service</td>\n",
       "      <td>Hi, I'm Timmy McHill and drugs and AA started ...</td>\n",
       "      <td>Crime,Fiction</td>\n",
       "    </tr>\n",
       "    <tr>\n",
       "      <th>0</th>\n",
       "      <td>Wish You Were Here</td>\n",
       "      <td>Bonjour from the city of love! I don't have mu...</td>\n",
       "      <td>Contemporary,Funny,Sad</td>\n",
       "    </tr>\n",
       "    <tr>\n",
       "      <th>0</th>\n",
       "      <td>We/I</td>\n",
       "      <td>Something happened in the lab the other night....</td>\n",
       "      <td>Science Fiction</td>\n",
       "    </tr>\n",
       "    <tr>\n",
       "      <th>0</th>\n",
       "      <td>Someone Has Died</td>\n",
       "      <td>TW: This story contains several depictions and...</td>\n",
       "      <td>Fiction,Horror,Speculative</td>\n",
       "    </tr>\n",
       "    <tr>\n",
       "      <th>0</th>\n",
       "      <td>Moonlight and Madness</td>\n",
       "      <td>Your eyes pour the moonlight on my path as I t...</td>\n",
       "      <td>Romance,Historical Fiction,Desi</td>\n",
       "    </tr>\n",
       "    <tr>\n",
       "      <th>0</th>\n",
       "      <td>Broken</td>\n",
       "      <td>TW: This story alludes to sexual abuse, and co...</td>\n",
       "      <td>Drama,Fiction</td>\n",
       "    </tr>\n",
       "    <tr>\n",
       "      <th>0</th>\n",
       "      <td>Foretold in Smoke</td>\n",
       "      <td>Content Warning: Mild foul languageMarie S. 5/...</td>\n",
       "      <td>Drama,Fiction,Urban Fantasy</td>\n",
       "    </tr>\n",
       "    <tr>\n",
       "      <th>0</th>\n",
       "      <td>The Lake</td>\n",
       "      <td>The summer I turned sixteen and got my license...</td>\n",
       "      <td>Crime,Fiction,Mystery</td>\n",
       "    </tr>\n",
       "    <tr>\n",
       "      <th>0</th>\n",
       "      <td>Free</td>\n",
       "      <td>Zelina walked in the middle of the train trac...</td>\n",
       "      <td>Science Fiction,Speculative,Horror</td>\n",
       "    </tr>\n",
       "    <tr>\n",
       "      <th>0</th>\n",
       "      <td>How to Win a Game of Chess Without Rea...</td>\n",
       "      <td>Disclaimer: There is no easy way to win a game...</td>\n",
       "      <td>People of Color,Creative Nonfiction,Funny</td>\n",
       "    </tr>\n",
       "    <tr>\n",
       "      <th>0</th>\n",
       "      <td>Two Stubborn Women</td>\n",
       "      <td>\\tThe night is thick and heavy with clouds whe...</td>\n",
       "      <td>Contemporary,Fiction,Speculative</td>\n",
       "    </tr>\n",
       "    <tr>\n",
       "      <th>0</th>\n",
       "      <td>Just Ask for Mercy</td>\n",
       "      <td>*Content warning- some violence and gore*Somet...</td>\n",
       "      <td>Fiction,Horror,Crime</td>\n",
       "    </tr>\n",
       "    <tr>\n",
       "      <th>0</th>\n",
       "      <td>10 Days to Mindfulness</td>\n",
       "      <td>Day one: finding your breath.“Take a moment to...</td>\n",
       "      <td>Contemporary,Fiction</td>\n",
       "    </tr>\n",
       "    <tr>\n",
       "      <th>0</th>\n",
       "      <td>The Overalls</td>\n",
       "      <td>[Allusions to death/dying] Snip, snip, snip. I...</td>\n",
       "      <td>Fiction,Friendship,Kids</td>\n",
       "    </tr>\n",
       "    <tr>\n",
       "      <th>0</th>\n",
       "      <td>Unseen</td>\n",
       "      <td>The canister had always been there, rolling ar...</td>\n",
       "      <td>Sad,Fiction,Romance</td>\n",
       "    </tr>\n",
       "    <tr>\n",
       "      <th>0</th>\n",
       "      <td>What Happens in Vegas</td>\n",
       "      <td>Content warning: Swearing My cat, Oreo, is the...</td>\n",
       "      <td>Fantasy,Contemporary,Urban Fantasy</td>\n",
       "    </tr>\n",
       "    <tr>\n",
       "      <th>0</th>\n",
       "      <td>What You Can Do With Your Book</td>\n",
       "      <td>You present me with a gift bag as if legions o...</td>\n",
       "      <td>American,Funny,Friendship</td>\n",
       "    </tr>\n",
       "    <tr>\n",
       "      <th>0</th>\n",
       "      <td>The Lonely Color</td>\n",
       "      <td>“... I want to paint you.”She was surprised, s...</td>\n",
       "      <td>Fiction</td>\n",
       "    </tr>\n",
       "  </tbody>\n",
       "</table>\n",
       "</div>"
      ],
      "text/plain": [
       "                                       Article title  \\\n",
       "0                                    Mothering         \n",
       "0          10 Ways to Explain Your Husband's Deat...   \n",
       "0          And the Radio Said, “There’s Another S...   \n",
       "0                     Long Distance Phone Call         \n",
       "0                           Wish You Were Here         \n",
       "0                                     Old Soul         \n",
       "0                  Your Cat™️ Customer Service         \n",
       "0                           Wish You Were Here         \n",
       "0                                         We/I         \n",
       "0                             Someone Has Died         \n",
       "0                        Moonlight and Madness         \n",
       "0                                       Broken         \n",
       "0                            Foretold in Smoke         \n",
       "0                                     The Lake         \n",
       "0                                         Free         \n",
       "0          How to Win a Game of Chess Without Rea...   \n",
       "0                           Two Stubborn Women         \n",
       "0                           Just Ask for Mercy         \n",
       "0                       10 Days to Mindfulness         \n",
       "0                                 The Overalls         \n",
       "0                                       Unseen         \n",
       "0                        What Happens in Vegas         \n",
       "0               What You Can Do With Your Book         \n",
       "0                             The Lonely Color         \n",
       "\n",
       "                                                Body  \\\n",
       "0  Carmen invades my mind a lot, even years after...   \n",
       "0  Content warning: Themes of death***1. Tell the...   \n",
       "0  CW: Gun violence, deathThe air hung heavy with...   \n",
       "0  You can talk to the dead on the pay phone in f...   \n",
       "0  Bonjour from the city of love! I don't have mu...   \n",
       "0  Can you hear me?I remember being reborn a thou...   \n",
       "0  Hi, I'm Timmy McHill and drugs and AA started ...   \n",
       "0  Bonjour from the city of love! I don't have mu...   \n",
       "0  Something happened in the lab the other night....   \n",
       "0  TW: This story contains several depictions and...   \n",
       "0  Your eyes pour the moonlight on my path as I t...   \n",
       "0  TW: This story alludes to sexual abuse, and co...   \n",
       "0  Content Warning: Mild foul languageMarie S. 5/...   \n",
       "0  The summer I turned sixteen and got my license...   \n",
       "0   Zelina walked in the middle of the train trac...   \n",
       "0  Disclaimer: There is no easy way to win a game...   \n",
       "0  \\tThe night is thick and heavy with clouds whe...   \n",
       "0  *Content warning- some violence and gore*Somet...   \n",
       "0  Day one: finding your breath.“Take a moment to...   \n",
       "0  [Allusions to death/dying] Snip, snip, snip. I...   \n",
       "0  The canister had always been there, rolling ar...   \n",
       "0  Content warning: Swearing My cat, Oreo, is the...   \n",
       "0  You present me with a gift bag as if legions o...   \n",
       "0  “... I want to paint you.”She was surprised, s...   \n",
       "\n",
       "                                        Tags  \n",
       "0          Fiction,Teens & Young Adult,Drama  \n",
       "0                        Christian,Drama,Sad  \n",
       "0             Drama,Crime,Historical Fiction  \n",
       "0                            Fiction,Lesbian  \n",
       "0                     Contemporary,Funny,Sad  \n",
       "0                                    Fiction  \n",
       "0                              Crime,Fiction  \n",
       "0                     Contemporary,Funny,Sad  \n",
       "0                            Science Fiction  \n",
       "0                 Fiction,Horror,Speculative  \n",
       "0            Romance,Historical Fiction,Desi  \n",
       "0                              Drama,Fiction  \n",
       "0                Drama,Fiction,Urban Fantasy  \n",
       "0                      Crime,Fiction,Mystery  \n",
       "0         Science Fiction,Speculative,Horror  \n",
       "0  People of Color,Creative Nonfiction,Funny  \n",
       "0           Contemporary,Fiction,Speculative  \n",
       "0                       Fiction,Horror,Crime  \n",
       "0                       Contemporary,Fiction  \n",
       "0                    Fiction,Friendship,Kids  \n",
       "0                        Sad,Fiction,Romance  \n",
       "0         Fantasy,Contemporary,Urban Fantasy  \n",
       "0                  American,Funny,Friendship  \n",
       "0                                    Fiction  "
      ]
     },
     "execution_count": 46,
     "metadata": {},
     "output_type": "execute_result"
    }
   ],
   "source": [
    "df"
   ]
  },
  {
   "cell_type": "code",
   "execution_count": 12,
   "metadata": {},
   "outputs": [],
   "source": [
    "df.to_csv('reedsy.csv', index=False, encoding='utf-8')"
   ]
  },
  {
   "cell_type": "code",
   "execution_count": 19,
   "metadata": {},
   "outputs": [],
   "source": [
    "summaries = [\"Carmen as a woman who slept with men for money did not resonate with the Carmen of my childhood. It's been a long time since Carmen died, and just as long since I've seen Tally or her sisters.\", \"After you've tucked him and Waffles into bed and he asks you again where his father is, tell him your husband will be staying with God for some time. What about those times your husband stumbled into bed after midnight and told you he was out doing some last-minute repairs for a client, and they'd invited him inside for some drinks?\"]"
   ]
  },
  {
   "cell_type": "code",
   "execution_count": 41,
   "metadata": {},
   "outputs": [
    {
     "name": "stdout",
     "output_type": "stream",
     "text": [
      "Prediction: It's a hard life being Ma's child.\n",
      "--\n"
     ]
    }
   ],
   "source": [
    "import cohere\n",
    "co = cohere.Client(api_key)\n",
    "response = co.generate(\n",
    "  model='large',\n",
    "  prompt=f\"Passage: {df['Body'].values[0][:2000]}\\n\\nTLDR:{summaries[0]}\\n--\\nPassage:{df['Body'].values[1][:2000]}\\n\\nTLDR:{summaries[1]}\\n--\\nPassage:{df['Body'].values[2][:2000]}\\n\\nTLDR:\",\n",
    "  max_tokens=15,\n",
    "  temperature=0.8,\n",
    "  k=0,\n",
    "  p=1,\n",
    "  frequency_penalty=0,\n",
    "  presence_penalty=0,\n",
    "  stop_sequences=[\"--\"],\n",
    "  return_likelihoods='NONE')\n",
    "print('Prediction: {}'.format(response.generations[0].text))"
   ]
  },
  {
   "cell_type": "code",
   "execution_count": 50,
   "metadata": {},
   "outputs": [
    {
     "name": "stdout",
     "output_type": "stream",
     "text": [
      "The confidence levels of the labels are: [cohere.Classification {\n",
      "\tinput: Any decent trader spends 90% of their efforts exploring how they could be wrong. That should apply to everyone’s decision making.\n",
      "\tprediction: Business news\n",
      "\tconfidence: [cohere.Confidence {\n",
      "\tlabel: Business news\n",
      "\tconfidence: 0.89163196\n",
      "}, cohere.Confidence {\n",
      "\tlabel: Cooking\n",
      "\tconfidence: 0.040212233\n",
      "}, cohere.Confidence {\n",
      "\tlabel: Arts & Culture\n",
      "\tconfidence: 0.068155825\n",
      "}]\n",
      "\tlabels: {'Arts & Culture': cohere.LabelPrediction {\n",
      "\tconfidence: 0.068155825\n",
      "}, 'Business news': cohere.LabelPrediction {\n",
      "\tconfidence: 0.89163196\n",
      "}, 'Cooking': cohere.LabelPrediction {\n",
      "\tconfidence: 0.040212233\n",
      "}}\n",
      "}, cohere.Classification {\n",
      "\tinput: Congratulations to all of this years @OliverAwards winners!\n",
      "\tprediction: Arts & Culture\n",
      "\tconfidence: [cohere.Confidence {\n",
      "\tlabel: Business news\n",
      "\tconfidence: 0.038718157\n",
      "}, cohere.Confidence {\n",
      "\tlabel: Cooking\n",
      "\tconfidence: 0.2552241\n",
      "}, cohere.Confidence {\n",
      "\tlabel: Arts & Culture\n",
      "\tconfidence: 0.7060577\n",
      "}]\n",
      "\tlabels: {'Arts & Culture': cohere.LabelPrediction {\n",
      "\tconfidence: 0.7060577\n",
      "}, 'Business news': cohere.LabelPrediction {\n",
      "\tconfidence: 0.038718157\n",
      "}, 'Cooking': cohere.LabelPrediction {\n",
      "\tconfidence: 0.2552241\n",
      "}}\n",
      "}]\n"
     ]
    }
   ],
   "source": [
    "import cohere\n",
    "from cohere.classify import Example\n",
    "co = cohere.Client(api_key)\n",
    "response = co.classify(\n",
    "  model='large',\n",
    "  inputs=[\"Any decent trader spends 90% of their efforts exploring how they could be wrong. That should apply to everyone’s decision making.\", \"Congratulations to all of this years @OliverAwards winners!\"],\n",
    "  examples=[Example(\"Elon Musk says Twitter Blue subscribers should be able to pay with dogecoin\", \"Business news\"), Example(\"Probability of a US recession in the next 12 months, via WSJ\", \"Business news\"), Example(\"European futures slide\", \"Business news\"), Example(\"NASDAQ rises 2% to ATH\", \"Business news\"), Example(\"FTX Founder is one of the world\\'s richest crypto billionaires, with a fortune valued at $20 billion.\", \"Business news\"), Example(\"Sweet Potato Macaroni Cheese is #RecipeOfTheDay, and I’m very happy about it!\", \"Cooking\"), Example(\"3-Ingredient Slow Cooker recipes\", \"Cooking\"), Example(\"This is by far the BEST biscuit recipe I’ve ever tried\", \"Cooking\"), Example(\"Baking my first loaf of banana bread...\", \"Cooking\"), Example(\"From the queen of Italian cooking, this is one of the most iconic tomato sauce recipes ever\", \"Cooking\"), Example(\"I’ve actually read this book and it was extremely insightful. A quick read as well and available as a free audiobook through many libraries.\", \"Arts & Culture\"), Example(\"Today’s Daily Cartoon\", \"Arts & Culture\"), Example(\"Get a glimpse of the stage adaptation of Hayao Miyazaki’s 2001 Oscar-winning animated feature Spirited Away\", \"Arts & Culture\"), Example(\"The #Banksy Exhibit in Cambridge, MA is absolutely terrific.\", \"Arts & Culture\"), Example(\"“A Whisper in Time” large abstract paining 48’ x 48’\", \"Arts & Culture\")])\n",
    "print('The confidence levels of the labels are: {}'.format(response.classifications))"
   ]
  },
  {
   "cell_type": "code",
   "execution_count": null,
   "metadata": {},
   "outputs": [],
   "source": []
  }
 ],
 "metadata": {
  "kernelspec": {
   "display_name": "Python 3.7.12 ('tf1')",
   "language": "python",
   "name": "python3"
  },
  "language_info": {
   "codemirror_mode": {
    "name": "ipython",
    "version": 3
   },
   "file_extension": ".py",
   "mimetype": "text/x-python",
   "name": "python",
   "nbconvert_exporter": "python",
   "pygments_lexer": "ipython3",
   "version": "3.7.12"
  },
  "orig_nbformat": 4,
  "vscode": {
   "interpreter": {
    "hash": "48324878fd09c2ff1755460c6bedcd7035239e95f1ec0df88470a6ba78f59e5a"
   }
  }
 },
 "nbformat": 4,
 "nbformat_minor": 2
}
